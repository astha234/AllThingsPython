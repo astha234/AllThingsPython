{
 "cells": [
  {
   "cell_type": "code",
   "execution_count": 9,
   "metadata": {
    "collapsed": true
   },
   "outputs": [],
   "source": [
    "import sys\n",
    "import numpy as np\n",
    "from sklearn.datasets import load_digits\n",
    "from sklearn.neural_network import MLPRegressor\n",
    "from sklearn.preprocessing import StandardScaler\n",
    "from sklearn.metrics import mean_absolute_error, r2_score\n",
    "\n",
    "digits_dataset_multi = load_digits(n_class=3)\n",
    "\n",
    "X = StandardScaler().fit_transform(digits_dataset_multi.data[:200])\n",
    "y = digits_dataset_multi.target[:200]"
   ]
  },
  {
   "cell_type": "code",
   "execution_count": 10,
   "metadata": {
    "collapsed": true
   },
   "outputs": [],
   "source": [
    "def test_mlp_regression():\n",
    "\n",
    "    X_train = X[:150]\n",
    "    y_train = y[:150]\n",
    "    X_test = X[150:]\n",
    "    y_test=y[150:]\n",
    "    ALL_ACTIVATIONS = [\"identity\", \"logistic\", \"tanh\", \"relu\"]\n",
    "    ALL_SOLVERS=[\"lbfgs\", \"sgd\", \"adam\"]\n",
    "    for solver_type in ALL_SOLVERS:\n",
    "        for activation_fn in ALL_ACTIVATIONS:\n",
    "            mlp = MLPRegressor(solver=solver_type, hidden_layer_sizes=50,max_iter=150, shuffle=True, random_state=1,activation=activation_fn)\n",
    "            mlp.fit(X_train, y_train)\n",
    "            y_predictions=mlp.predict(X_test)\n",
    "            mean_abs_err=mean_absolute_error(y_test,y_predictions)\n",
    "            r2=r2_score(y_test,y_predictions)\n",
    "            print solver_type, activation_fn\n",
    "            print mean_abs_err, r2        "
   ]
  },
  {
   "cell_type": "code",
   "execution_count": 11,
   "metadata": {
    "collapsed": false
   },
   "outputs": [
    {
     "name": "stdout",
     "output_type": "stream",
     "text": [
      "lbfgs identity\n",
      "0.44422599389 0.373414215665\n",
      "lbfgs logistic\n",
      "0.149437616302 0.914235570044\n",
      "lbfgs tanh\n",
      "0.244036640935 0.805984188549\n",
      "lbfgs relu\n",
      "0.338482693676 0.706003868874\n",
      "sgd identity\n",
      "0.585257846249 -0.149573377246\n",
      "sgd logistic\n",
      "0.484324350224 0.594871882664\n"
     ]
    },
    {
     "name": "stderr",
     "output_type": "stream",
     "text": [
      "C:\\Users\\AsthaAb\\AppData\\Local\\Continuum\\Anaconda2\\lib\\site-packages\\sklearn\\neural_network\\multilayer_perceptron.py:563: ConvergenceWarning: Stochastic Optimizer: Maximum iterations reached and the optimization hasn't converged yet.\n",
      "  % (), ConvergenceWarning)\n"
     ]
    },
    {
     "name": "stdout",
     "output_type": "stream",
     "text": [
      "sgd tanh\n",
      "0.46431649649 0.214398626371\n",
      "sgd relu\n",
      "0.594728158964 0.197318528127\n",
      "adam identity\n",
      "1.59389905446 -18.6404409938\n",
      "adam logistic\n",
      "0.309604012021 0.77324571593\n",
      "adam tanh\n",
      "0.883600055868 -2.14208709412\n",
      "adam relu\n",
      "0.454302427777 0.465535314932\n"
     ]
    }
   ],
   "source": [
    "test_mlp_regression()"
   ]
  },
  {
   "cell_type": "code",
   "execution_count": null,
   "metadata": {
    "collapsed": true
   },
   "outputs": [],
   "source": []
  }
 ],
 "metadata": {
  "kernelspec": {
   "display_name": "Python 2",
   "language": "python",
   "name": "python2"
  },
  "language_info": {
   "codemirror_mode": {
    "name": "ipython",
    "version": 2
   },
   "file_extension": ".py",
   "mimetype": "text/x-python",
   "name": "python",
   "nbconvert_exporter": "python",
   "pygments_lexer": "ipython2",
   "version": "2.7.13"
  }
 },
 "nbformat": 4,
 "nbformat_minor": 2
}
